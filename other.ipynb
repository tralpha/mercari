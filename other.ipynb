{
 "cells": [
  {
   "cell_type": "code",
   "execution_count": 35,
   "metadata": {
    "collapsed": true
   },
   "outputs": [],
   "source": [
    "import numpy as np  # linear algebra\n",
    "import pandas as pd  # data processing, CSV file I/O (e.g. pd.read_csv)\n",
    "import math\n",
    "from sklearn.model_selection import train_test_split\n",
    "from kernel import Evaluator\n",
    "import seaborn as sns\n",
    "import matplotlib.pyplot as plt\n",
    "sns.set(style=\"whitegrid\", color_codes=True)\n",
    "%matplotlib inline"
   ]
  },
  {
   "cell_type": "code",
   "execution_count": 36,
   "metadata": {
    "collapsed": true
   },
   "outputs": [],
   "source": [
    "from sklearn.tree import DecisionTreeRegressor\n",
    "regr_1 = DecisionTreeRegressor(max_depth=2)\n",
    "regr_2 = DecisionTreeRegressor(max_depth=5)"
   ]
  },
  {
   "cell_type": "code",
   "execution_count": 2,
   "metadata": {},
   "outputs": [
    {
     "name": "stdout",
     "output_type": "stream",
     "text": [
      "Loading Dataset...\n",
      "Dataset loaded!...\n"
     ]
    }
   ],
   "source": [
    "print('Loading Dataset...')\n",
    "train = pd.read_csv(\"train.tsv\", sep='\\t')\n",
    "test = pd.read_csv(\"test.tsv\", sep='\\t')\n",
    "print('Dataset loaded!...')"
   ]
  },
  {
   "cell_type": "code",
   "execution_count": 118,
   "metadata": {},
   "outputs": [],
   "source": [
    "pd.options.mode.chained_assignment = None  # default='warn'\n",
    "X = train.loc[:, train.columns!='price']\n",
    "y = train.loc[:, ['price']]\n",
    "\n",
    "X.loc[:,['category_name']] = pd.Categorical(X.loc[:,'category_name'])\n",
    "X['category_code'] = X.category_name.cat.codes\n",
    "X.loc[:,['brand_name']] = pd.Categorical(X.loc[:,'brand_name'])\n",
    "X['brand_code'] = X.brand_name.cat.codes"
   ]
  },
  {
   "cell_type": "code",
   "execution_count": 121,
   "metadata": {},
   "outputs": [],
   "source": [
    "X_train, X_test, y_train, y_test = train_test_split(\n",
    "    X, y, test_size=0.33, random_state=42)"
   ]
  },
  {
   "cell_type": "code",
   "execution_count": 123,
   "metadata": {},
   "outputs": [
    {
     "name": "stdout",
     "output_type": "stream",
     "text": [
      "4327 3499\n",
      "1248 1185\n"
     ]
    },
    {
     "data": {
      "text/plain": [
       "Index(['train_id', 'name', 'item_condition_id', 'category_name', 'brand_name',\n",
       "       'shipping', 'item_description', 'category_code', 'brand_code'],\n",
       "      dtype='object')"
      ]
     },
     "execution_count": 123,
     "metadata": {},
     "output_type": "execute_result"
    }
   ],
   "source": [
    "B_train = X_train.loc[:, ['shipping', 'item_condition_id', 'brand_code', 'category_code']]\n",
    "B_test = X_test.loc[:, ['shipping', 'item_condition_id', 'brand_code', 'category_code']]\n",
    "print(len(B_train['brand_code'].unique()), len(B_test['brand_code'].unique()))\n",
    "print(len(B_train['category_code'].unique()), len(B_test['category_code'].unique()))\n",
    "X_train.columns"
   ]
  },
  {
   "cell_type": "code",
   "execution_count": null,
   "metadata": {},
   "outputs": [],
   "source": [
    "regr_1 = DecisionTreeRegressor(max_depth=2)\n",
    "regr_2 = DecisionTreeRegressor(max_depth=25)\n",
    "regr_1.fit(B_train, np.log1p(y_train))\n",
    "regr_2.fit(B_train, np.log1p(y_train))\n",
    "print(regr_1.feature_importances_)\n",
    "print(regr_2.feature_importances_)"
   ]
  },
  {
   "cell_type": "code",
   "execution_count": 131,
   "metadata": {},
   "outputs": [
    {
     "name": "stdout",
     "output_type": "stream",
     "text": [
      "0.716462270812279 0.5378310663367468\n"
     ]
    }
   ],
   "source": [
    "train_predict_1 = regr_1.predict(B_train)\n",
    "train_predict_2 = regr_2.predict(B_train)\n",
    "ev_train = Evaluator(y_train.values)\n",
    "train_score_1 = ev_train.rmsle_loop(np.expm1(train_predict_1))\n",
    "train_score_2 = ev_train.rmsle_loop(np.expm1(train_predict_2))\n",
    "print(train_score_1, train_score_2)"
   ]
  },
  {
   "cell_type": "code",
   "execution_count": 132,
   "metadata": {},
   "outputs": [
    {
     "name": "stdout",
     "output_type": "stream",
     "text": [
      "0.7175152210922403 0.5688568606960753\n"
     ]
    }
   ],
   "source": [
    "y_1 = regr_1.predict(B_test)\n",
    "y_2 = regr_2.predict(B_test)\n",
    "ev = Evaluator(y_test.values)\n",
    "# print(dir(ev))\n",
    "score = ev.rmsle_loop(np.expm1(y_1))\n",
    "score_2 = ev.rmsle_loop(np.expm1(y_2))\n",
    "print(score, score_2)"
   ]
  },
  {
   "cell_type": "code",
   "execution_count": 8,
   "metadata": {},
   "outputs": [],
   "source": [
    "bd_train = pd.get_dummies(B_train, columns=['category_name'])"
   ]
  },
  {
   "cell_type": "code",
   "execution_count": 10,
   "metadata": {},
   "outputs": [
    {
     "data": {
      "text/plain": [
       "Index(['shipping', 'item_condition_id', 'brand_name',\n",
       "       'category_name_Beauty/Bath & Body/Bath',\n",
       "       'category_name_Beauty/Bath & Body/Bathing Accessories',\n",
       "       'category_name_Beauty/Bath & Body/Cleansers',\n",
       "       'category_name_Beauty/Bath & Body/Other',\n",
       "       'category_name_Beauty/Bath & Body/Scrubs & Body Treatments',\n",
       "       'category_name_Beauty/Bath & Body/Sets',\n",
       "       'category_name_Beauty/Fragrance/Candles & Home Scents',\n",
       "       ...\n",
       "       'category_name_Women/Women's Accessories/Watches',\n",
       "       'category_name_Women/Women's Handbags/Backpack Style',\n",
       "       'category_name_Women/Women's Handbags/Baguette',\n",
       "       'category_name_Women/Women's Handbags/Cosmetic Bags',\n",
       "       'category_name_Women/Women's Handbags/Hobo',\n",
       "       'category_name_Women/Women's Handbags/Messenger & Crossbody',\n",
       "       'category_name_Women/Women's Handbags/Other',\n",
       "       'category_name_Women/Women's Handbags/Satchel',\n",
       "       'category_name_Women/Women's Handbags/Shoulder Bag',\n",
       "       'category_name_Women/Women's Handbags/Totes & Shoppers'],\n",
       "      dtype='object', length=1250)"
      ]
     },
     "execution_count": 10,
     "metadata": {},
     "output_type": "execute_result"
    }
   ],
   "source": [
    "bd_train.columns"
   ]
  },
  {
   "cell_type": "code",
   "execution_count": null,
   "metadata": {
    "collapsed": true
   },
   "outputs": [],
   "source": []
  }
 ],
 "metadata": {
  "kernelspec": {
   "display_name": "Python 3",
   "language": "python",
   "name": "python3"
  },
  "language_info": {
   "codemirror_mode": {
    "name": "ipython",
    "version": 3
   },
   "file_extension": ".py",
   "mimetype": "text/x-python",
   "name": "python",
   "nbconvert_exporter": "python",
   "pygments_lexer": "ipython3",
   "version": "3.6.3"
  }
 },
 "nbformat": 4,
 "nbformat_minor": 2
}
