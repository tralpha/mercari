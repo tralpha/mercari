{
 "cells": [
  {
   "cell_type": "code",
   "execution_count": 35,
   "metadata": {
    "collapsed": true
   },
   "outputs": [],
   "source": [
    "import numpy as np  # linear algebra\n",
    "import pandas as pd  # data processing, CSV file I/O (e.g. pd.read_csv)\n",
    "import math\n",
    "from sklearn.model_selection import train_test_split\n",
    "from kernel import Evaluator\n",
    "import seaborn as sns\n",
    "import matplotlib.pyplot as plt\n",
    "sns.set(style=\"whitegrid\", color_codes=True)\n",
    "%matplotlib inline"
   ]
  },
  {
   "cell_type": "code",
   "execution_count": 36,
   "metadata": {
    "collapsed": true
   },
   "outputs": [],
   "source": [
    "from sklearn.tree import DecisionTreeRegressor\n",
    "regr_1 = DecisionTreeRegressor(max_depth=2)\n",
    "regr_2 = DecisionTreeRegressor(max_depth=5)"
   ]
  },
  {
   "cell_type": "code",
   "execution_count": 2,
   "metadata": {},
   "outputs": [
    {
     "name": "stdout",
     "output_type": "stream",
     "text": [
      "Loading Dataset...\n",
      "Dataset loaded!...\n"
     ]
    }
   ],
   "source": [
    "print('Loading Dataset...')\n",
    "train = pd.read_csv(\"train.tsv\", sep='\\t')\n",
    "test = pd.read_csv(\"test.tsv\", sep='\\t')\n",
    "print('Dataset loaded!...')"
   ]
  },
  {
   "cell_type": "code",
   "execution_count": 3,
   "metadata": {
    "collapsed": true
   },
   "outputs": [],
   "source": [
    "X = train.loc[:, train.columns!='price']\n",
    "y = train.loc[:, ['price']]\n",
    "\n",
    "X_train, X_test, y_train, y_test = train_test_split(\n",
    "    X, y, test_size=0.33, random_state=42)"
   ]
  },
  {
   "cell_type": "code",
   "execution_count": 49,
   "metadata": {},
   "outputs": [
    {
     "name": "stdout",
     "output_type": "stream",
     "text": [
      "4327 3499\n",
      "1248 1185\n"
     ]
    },
    {
     "data": {
      "text/plain": [
       "Index(['train_id', 'name', 'item_condition_id', 'category_name', 'brand_name',\n",
       "       'shipping', 'item_description'],\n",
       "      dtype='object')"
      ]
     },
     "execution_count": 49,
     "metadata": {},
     "output_type": "execute_result"
    }
   ],
   "source": [
    "B_train = X_train.loc[:, ['shipping', 'item_condition_id', 'brand_name', 'category_name']]\n",
    "B_test = X_test.loc[:, ['shipping', 'item_condition_id', 'brand_name', 'category_name']]\n",
    "print(len(B_train['brand_name'].unique()), len(B_test['brand_name'].unique()))\n",
    "print(len(B_train['category_name'].unique()), len(B_test['category_name'].unique()))\n",
    "X_train.columns"
   ]
  },
  {
   "cell_type": "code",
   "execution_count": 33,
   "metadata": {},
   "outputs": [
    {
     "name": "stdout",
     "output_type": "stream",
     "text": [
      "         shipping  item_condition_id  category_code  brand_code\n",
      "223243          1                  1            652        1504\n",
      "363758          1                  1           1097          -1\n",
      "1358119         0                  1           1097          -1\n",
      "198564          0                  3            529        2752\n",
      "71297           0                  1           1208        2341\n"
     ]
    }
   ],
   "source": [
    "B_train.category_name = pd.Categorical(B_train.category_name)\n",
    "B_train['category_code'] = B_train.category_name.cat.codes\n",
    "B_train.brand_name = pd.Categorical(B_train.brand_name)\n",
    "B_train['brand_code'] = B_train.brand_name.cat.codes\n",
    "B_train = B_train.drop(['category_name', 'brand_name'], axis=1)\n",
    "print(B_train.head())\n",
    "B_test.category_name = pd.Categorical(B_test.category_name)\n",
    "B_train['category_code'] = B_train.category_name.cat.codes\n",
    "B_train.brand_name = pd.Categorical(B_train.brand_name)\n",
    "B_train['brand_code'] = B_train.brand_name.cat.codes\n",
    "B_train = B_train.drop(['category_name', 'brand_name'], axis=1)"
   ]
  },
  {
   "cell_type": "code",
   "execution_count": 43,
   "metadata": {},
   "outputs": [
    {
     "name": "stdout",
     "output_type": "stream",
     "text": [
      "[ 0.62251124  0.          0.          0.37748876]\n",
      "[ 0.16923863  0.08109126  0.49992904  0.24974108]\n"
     ]
    }
   ],
   "source": [
    "regr_1 = DecisionTreeRegressor(max_depth=2)\n",
    "regr_2 = DecisionTreeRegressor(max_depth=10)\n",
    "regr_1.fit(B_train, np.log1p(y_train))\n",
    "regr_2.fit(B_train, np.log1p(y_train))\n",
    "print(regr_1.feature_importances_)\n",
    "print(regr_2.feature_importances_)"
   ]
  },
  {
   "cell_type": "code",
   "execution_count": 44,
   "metadata": {},
   "outputs": [
    {
     "name": "stdout",
     "output_type": "stream",
     "text": [
      "0.7164622708119813 0.6211904277998096\n"
     ]
    }
   ],
   "source": [
    "train_predict_1 = regr_1.predict(B_train)\n",
    "train_predict_2 = regr_2.predict(B_train)\n",
    "ev_train = Evaluator(y_train.values)\n",
    "train_score_1 = ev_train.rmsle_loop(np.expm1(train_predict_1))\n",
    "train_score_2 = ev_train.rmsle_loop(np.expm1(train_predict_2))\n",
    "print(train_score_1, train_score_2)"
   ]
  },
  {
   "cell_type": "code",
   "execution_count": 45,
   "metadata": {},
   "outputs": [
    {
     "ename": "NameError",
     "evalue": "name 'S_test' is not defined",
     "output_type": "error",
     "traceback": [
      "\u001b[0;31m---------------------------------------------------------------------------\u001b[0m",
      "\u001b[0;31mNameError\u001b[0m                                 Traceback (most recent call last)",
      "\u001b[0;32m<ipython-input-45-f0d423697c52>\u001b[0m in \u001b[0;36m<module>\u001b[0;34m()\u001b[0m\n\u001b[0;32m----> 1\u001b[0;31m \u001b[0my_1\u001b[0m \u001b[0;34m=\u001b[0m \u001b[0mregr_1\u001b[0m\u001b[0;34m.\u001b[0m\u001b[0mpredict\u001b[0m\u001b[0;34m(\u001b[0m\u001b[0mS_test\u001b[0m\u001b[0;34m)\u001b[0m\u001b[0;34m\u001b[0m\u001b[0m\n\u001b[0m\u001b[1;32m      2\u001b[0m \u001b[0my_2\u001b[0m \u001b[0;34m=\u001b[0m \u001b[0mregr_2\u001b[0m\u001b[0;34m.\u001b[0m\u001b[0mpredict\u001b[0m\u001b[0;34m(\u001b[0m\u001b[0mS_test\u001b[0m\u001b[0;34m)\u001b[0m\u001b[0;34m\u001b[0m\u001b[0m\n\u001b[1;32m      3\u001b[0m \u001b[0mev\u001b[0m \u001b[0;34m=\u001b[0m \u001b[0mEvaluator\u001b[0m\u001b[0;34m(\u001b[0m\u001b[0my_test\u001b[0m\u001b[0;34m.\u001b[0m\u001b[0mvalues\u001b[0m\u001b[0;34m)\u001b[0m\u001b[0;34m\u001b[0m\u001b[0m\n\u001b[1;32m      4\u001b[0m \u001b[0;31m# print(dir(ev))\u001b[0m\u001b[0;34m\u001b[0m\u001b[0;34m\u001b[0m\u001b[0m\n\u001b[1;32m      5\u001b[0m \u001b[0mscore\u001b[0m \u001b[0;34m=\u001b[0m \u001b[0mev\u001b[0m\u001b[0;34m.\u001b[0m\u001b[0mrmsle_loop\u001b[0m\u001b[0;34m(\u001b[0m\u001b[0mnp\u001b[0m\u001b[0;34m.\u001b[0m\u001b[0mexpm1\u001b[0m\u001b[0;34m(\u001b[0m\u001b[0my_1\u001b[0m\u001b[0;34m)\u001b[0m\u001b[0;34m)\u001b[0m\u001b[0;34m\u001b[0m\u001b[0m\n",
      "\u001b[0;31mNameError\u001b[0m: name 'S_test' is not defined"
     ]
    }
   ],
   "source": [
    "y_1 = regr_1.predict(B_test)\n",
    "y_2 = regr_2.predict(B_test)\n",
    "ev = Evaluator(y_test.values)\n",
    "# print(dir(ev))\n",
    "score = ev.rmsle_loop(np.expm1(y_1))\n",
    "score_2 = ev.rmsle_loop(np.expm1(y_2))\n",
    "print(score, score_2)"
   ]
  },
  {
   "cell_type": "code",
   "execution_count": 8,
   "metadata": {},
   "outputs": [],
   "source": [
    "bd_train = pd.get_dummies(B_train, columns=['category_name'])"
   ]
  },
  {
   "cell_type": "code",
   "execution_count": 10,
   "metadata": {},
   "outputs": [
    {
     "data": {
      "text/plain": [
       "Index(['shipping', 'item_condition_id', 'brand_name',\n",
       "       'category_name_Beauty/Bath & Body/Bath',\n",
       "       'category_name_Beauty/Bath & Body/Bathing Accessories',\n",
       "       'category_name_Beauty/Bath & Body/Cleansers',\n",
       "       'category_name_Beauty/Bath & Body/Other',\n",
       "       'category_name_Beauty/Bath & Body/Scrubs & Body Treatments',\n",
       "       'category_name_Beauty/Bath & Body/Sets',\n",
       "       'category_name_Beauty/Fragrance/Candles & Home Scents',\n",
       "       ...\n",
       "       'category_name_Women/Women's Accessories/Watches',\n",
       "       'category_name_Women/Women's Handbags/Backpack Style',\n",
       "       'category_name_Women/Women's Handbags/Baguette',\n",
       "       'category_name_Women/Women's Handbags/Cosmetic Bags',\n",
       "       'category_name_Women/Women's Handbags/Hobo',\n",
       "       'category_name_Women/Women's Handbags/Messenger & Crossbody',\n",
       "       'category_name_Women/Women's Handbags/Other',\n",
       "       'category_name_Women/Women's Handbags/Satchel',\n",
       "       'category_name_Women/Women's Handbags/Shoulder Bag',\n",
       "       'category_name_Women/Women's Handbags/Totes & Shoppers'],\n",
       "      dtype='object', length=1250)"
      ]
     },
     "execution_count": 10,
     "metadata": {},
     "output_type": "execute_result"
    }
   ],
   "source": [
    "bd_train.columns"
   ]
  },
  {
   "cell_type": "code",
   "execution_count": null,
   "metadata": {
    "collapsed": true
   },
   "outputs": [],
   "source": []
  }
 ],
 "metadata": {
  "kernelspec": {
   "display_name": "Python 3",
   "language": "python",
   "name": "python3"
  },
  "language_info": {
   "codemirror_mode": {
    "name": "ipython",
    "version": 3
   },
   "file_extension": ".py",
   "mimetype": "text/x-python",
   "name": "python",
   "nbconvert_exporter": "python",
   "pygments_lexer": "ipython3",
   "version": "3.6.3"
  }
 },
 "nbformat": 4,
 "nbformat_minor": 2
}
