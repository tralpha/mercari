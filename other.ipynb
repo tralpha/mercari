{
 "cells": [
  {
   "cell_type": "code",
   "execution_count": 27,
   "metadata": {
    "collapsed": true
   },
   "outputs": [],
   "source": [
    "import numpy as np  # linear algebra\n",
    "import pandas as pd  # data processing, CSV file I/O (e.g. pd.read_csv)\n",
    "import math\n",
    "import gc\n",
    "from sklearn.model_selection import train_test_split\n",
    "from kernel import Evaluator\n",
    "import seaborn as sns\n",
    "import matplotlib.pyplot as plt\n",
    "from sklearn.preprocessing import LabelBinarizer\n",
    "sns.set(style=\"whitegrid\", color_codes=True)\n",
    "%matplotlib inline"
   ]
  },
  {
   "cell_type": "code",
   "execution_count": 2,
   "metadata": {
    "collapsed": true
   },
   "outputs": [],
   "source": [
    "from sklearn.tree import DecisionTreeRegressor\n",
    "regr_1 = DecisionTreeRegressor(max_depth=2)\n",
    "regr_2 = DecisionTreeRegressor(max_depth=5)"
   ]
  },
  {
   "cell_type": "code",
   "execution_count": 40,
   "metadata": {},
   "outputs": [
    {
     "name": "stdout",
     "output_type": "stream",
     "text": [
      "Loading Dataset...\n",
      "Dataset loaded!...\n"
     ]
    }
   ],
   "source": [
    "print('Loading Dataset...')\n",
    "train = pd.read_csv(\"train.tsv\", sep='\\t')\n",
    "test = pd.read_csv(\"test.tsv\", sep='\\t')\n",
    "print('Dataset loaded!...')"
   ]
  },
  {
   "cell_type": "code",
   "execution_count": 41,
   "metadata": {},
   "outputs": [
    {
     "name": "stdout",
     "output_type": "stream",
     "text": [
      "   test_id\n",
      "0        0\n",
      "1        1\n",
      "2        2\n",
      "3        3\n",
      "4        4\n"
     ]
    }
   ],
   "source": [
    "merge: pd.DataFrame = pd.concat([train, test])\n",
    "submission: pd.DataFrame = test[['test_id']]\n",
    "print(submission.head())"
   ]
  },
  {
   "cell_type": "code",
   "execution_count": 42,
   "metadata": {},
   "outputs": [
    {
     "data": {
      "text/plain": [
       "386"
      ]
     },
     "execution_count": 42,
     "metadata": {},
     "output_type": "execute_result"
    }
   ],
   "source": [
    "del train\n",
    "del test\n",
    "gc.collect()"
   ]
  },
  {
   "cell_type": "code",
   "execution_count": 43,
   "metadata": {
    "collapsed": true
   },
   "outputs": [],
   "source": [
    "def handle_missing_inplace(dataset):\n",
    "    dataset['category_name'].fillna(value='missing', inplace=True)\n",
    "    dataset['brand_name'].fillna(value='missing', inplace=True)\n",
    "    dataset['item_description'].fillna(value='missing', inplace=True)"
   ]
  },
  {
   "cell_type": "code",
   "execution_count": 44,
   "metadata": {
    "collapsed": true
   },
   "outputs": [],
   "source": [
    "handle_missing_inplace(merge)"
   ]
  },
  {
   "cell_type": "code",
   "execution_count": 45,
   "metadata": {},
   "outputs": [],
   "source": [
    "lb = LabelBinarizer(sparse_output=True)\n",
    "X_brand = lb.fit_transform(merge['brand_name'])"
   ]
  },
  {
   "cell_type": "code",
   "execution_count": 34,
   "metadata": {},
   "outputs": [
    {
     "data": {
      "text/plain": [
       "LabelBinarizer(neg_label=0, pos_label=1, sparse_output=True)"
      ]
     },
     "execution_count": 34,
     "metadata": {},
     "output_type": "execute_result"
    }
   ],
   "source": [
    "from sklearn import preprocessing\n",
    "lb = preprocessing.LabelBinarizer(sparse_output = True)\n",
    "lb.fit([1, 2, 6, 4, 2])"
   ]
  },
  {
   "cell_type": "code",
   "execution_count": 35,
   "metadata": {},
   "outputs": [
    {
     "data": {
      "text/plain": [
       "array([1, 2, 4, 6])"
      ]
     },
     "execution_count": 35,
     "metadata": {},
     "output_type": "execute_result"
    }
   ],
   "source": [
    "lb.classes_"
   ]
  },
  {
   "cell_type": "code",
   "execution_count": 39,
   "metadata": {},
   "outputs": [
    {
     "name": "stdout",
     "output_type": "stream",
     "text": [
      "  (0, 0)\t1\n",
      "  (1, 3)\t1\n"
     ]
    }
   ],
   "source": [
    "result = lb.transform([1, 6])\n",
    "print(result)"
   ]
  },
  {
   "cell_type": "code",
   "execution_count": 24,
   "metadata": {},
   "outputs": [
    {
     "name": "stdout",
     "output_type": "stream",
     "text": [
      "  (0, 5265)\t1\n",
      "  (1, 3889)\t1\n",
      "  (2, 4588)\t1\n",
      "  (3, 5265)\t1\n",
      "  (4, 5265)\t1\n",
      "  (5, 5265)\t1\n",
      "  (6, 84)\t1\n",
      "  (7, 4341)\t1\n",
      "  (8, 3337)\t1\n",
      "  (9, 5265)\t1\n",
      "  brand_name                                      category_name  \\\n",
      "0    missing                                  Men/Tops/T-shirts   \n",
      "1      Razer  Electronics/Computers & Tablets/Components & P...   \n",
      "2     Target                        Women/Tops & Blouses/Blouse   \n",
      "3    missing                 Home/Home Décor/Home Décor Accents   \n",
      "4    missing                            Women/Jewelry/Necklaces   \n",
      "\n",
      "   item_condition_id                                   item_description  \\\n",
      "0                  3                                 No description yet   \n",
      "1                  3  This keyboard is in great condition and works ...   \n",
      "2                  1  Adorable top with a hint of lace and a key hol...   \n",
      "3                  1  New with tags. Leather horses. Retail for [rm]...   \n",
      "4                  1          Complete with certificate of authenticity   \n",
      "\n",
      "                                  name  price  shipping  test_id  train_id  \n",
      "0  MLB Cincinnati Reds T Shirt Size XL   10.0         1      NaN       0.0  \n",
      "1     Razer BlackWidow Chroma Keyboard   52.0         0      NaN       1.0  \n",
      "2                       AVA-VIV Blouse   10.0         1      NaN       2.0  \n",
      "3                Leather Horse Statues   35.0         1      NaN       3.0  \n",
      "4                 24K GOLD plated rose   44.0         0      NaN       4.0  \n"
     ]
    }
   ],
   "source": [
    "print(X_brand[:10])\n",
    "print(merge.head())"
   ]
  },
  {
   "cell_type": "code",
   "execution_count": 4,
   "metadata": {},
   "outputs": [],
   "source": [
    "pd.options.mode.chained_assignment = None  # default='warn'\n",
    "X = train.loc[:, train.columns!='price']\n",
    "y = train.loc[:, ['price']]\n",
    "\n",
    "X.loc[:,['category_name']] = pd.Categorical(X.loc[:,'category_name'])\n",
    "X['category_code'] = X.category_name.cat.codes\n",
    "X.loc[:,['brand_name']] = pd.Categorical(X.loc[:,'brand_name'])\n",
    "X['brand_code'] = X.brand_name.cat.codes"
   ]
  },
  {
   "cell_type": "code",
   "execution_count": 5,
   "metadata": {},
   "outputs": [],
   "source": [
    "X_train, X_test, y_train, y_test = train_test_split(\n",
    "    X, y, test_size=0.33, random_state=42)"
   ]
  },
  {
   "cell_type": "code",
   "execution_count": 6,
   "metadata": {},
   "outputs": [
    {
     "name": "stdout",
     "output_type": "stream",
     "text": [
      "4327 3499\n",
      "1248 1185\n"
     ]
    },
    {
     "data": {
      "text/html": [
       "<div>\n",
       "<style>\n",
       "    .dataframe thead tr:only-child th {\n",
       "        text-align: right;\n",
       "    }\n",
       "\n",
       "    .dataframe thead th {\n",
       "        text-align: left;\n",
       "    }\n",
       "\n",
       "    .dataframe tbody tr th {\n",
       "        vertical-align: top;\n",
       "    }\n",
       "</style>\n",
       "<table border=\"1\" class=\"dataframe\">\n",
       "  <thead>\n",
       "    <tr style=\"text-align: right;\">\n",
       "      <th></th>\n",
       "      <th>shipping</th>\n",
       "      <th>item_condition_id</th>\n",
       "      <th>brand_code</th>\n",
       "      <th>category_code</th>\n",
       "    </tr>\n",
       "  </thead>\n",
       "  <tbody>\n",
       "    <tr>\n",
       "      <th>223243</th>\n",
       "      <td>1</td>\n",
       "      <td>1</td>\n",
       "      <td>1664</td>\n",
       "      <td>683</td>\n",
       "    </tr>\n",
       "    <tr>\n",
       "      <th>363758</th>\n",
       "      <td>1</td>\n",
       "      <td>1</td>\n",
       "      <td>-1</td>\n",
       "      <td>1137</td>\n",
       "    </tr>\n",
       "    <tr>\n",
       "      <th>1358119</th>\n",
       "      <td>0</td>\n",
       "      <td>1</td>\n",
       "      <td>-1</td>\n",
       "      <td>1137</td>\n",
       "    </tr>\n",
       "    <tr>\n",
       "      <th>198564</th>\n",
       "      <td>0</td>\n",
       "      <td>3</td>\n",
       "      <td>3057</td>\n",
       "      <td>559</td>\n",
       "    </tr>\n",
       "    <tr>\n",
       "      <th>71297</th>\n",
       "      <td>0</td>\n",
       "      <td>1</td>\n",
       "      <td>2604</td>\n",
       "      <td>1248</td>\n",
       "    </tr>\n",
       "  </tbody>\n",
       "</table>\n",
       "</div>"
      ],
      "text/plain": [
       "         shipping  item_condition_id  brand_code  category_code\n",
       "223243          1                  1        1664            683\n",
       "363758          1                  1          -1           1137\n",
       "1358119         0                  1          -1           1137\n",
       "198564          0                  3        3057            559\n",
       "71297           0                  1        2604           1248"
      ]
     },
     "execution_count": 6,
     "metadata": {},
     "output_type": "execute_result"
    }
   ],
   "source": [
    "B_train = X_train.loc[:, ['shipping', 'item_condition_id', 'brand_code', 'category_code']]\n",
    "B_test = X_test.loc[:, ['shipping', 'item_condition_id', 'brand_code', 'category_code']]\n",
    "print(len(B_train['brand_code'].unique()), len(B_test['brand_code'].unique()))\n",
    "print(len(B_train['category_code'].unique()), len(B_test['category_code'].unique()))\n",
    "X_train.columns\n",
    "B_train.head()"
   ]
  },
  {
   "cell_type": "code",
   "execution_count": 146,
   "metadata": {},
   "outputs": [
    {
     "name": "stdout",
     "output_type": "stream",
     "text": [
      "[ 0.62251124  0.          0.37748876  0.        ]\n",
      "[ 0.1090445   0.08206338  0.31438133  0.49451079]\n"
     ]
    }
   ],
   "source": [
    "regr_1 = DecisionTreeRegressor(max_depth=2)\n",
    "regr_2 = DecisionTreeRegressor(max_depth=20)\n",
    "regr_1.fit(B_train, np.log1p(y_train))\n",
    "regr_2.fit(B_train, np.log1p(y_train))\n",
    "print(regr_1.feature_importances_)\n",
    "print(regr_2.feature_importances_)"
   ]
  },
  {
   "cell_type": "code",
   "execution_count": 147,
   "metadata": {},
   "outputs": [
    {
     "name": "stdout",
     "output_type": "stream",
     "text": [
      "0.7164622708120116 0.5378310384111897\n"
     ]
    }
   ],
   "source": [
    "train_predict_1 = regr_1.predict(B_train)\n",
    "train_predict_2 = regr_2.predict(B_train)\n",
    "ev_train = Evaluator(y_train.values)\n",
    "train_score_1 = ev_train.rmsle_loop(np.expm1(train_predict_1))\n",
    "train_score_2 = ev_train.rmsle_loop(np.expm1(train_predict_2))\n",
    "print(train_score_1, train_score_2)"
   ]
  },
  {
   "cell_type": "code",
   "execution_count": 148,
   "metadata": {},
   "outputs": [
    {
     "name": "stdout",
     "output_type": "stream",
     "text": [
      "0.7175152210923533 0.5687757302393023\n"
     ]
    }
   ],
   "source": [
    "y_1 = regr_1.predict(B_test)\n",
    "y_2 = regr_2.predict(B_test)\n",
    "ev = Evaluator(y_test.values)\n",
    "# print(dir(ev))\n",
    "score = ev.rmsle_loop(np.expm1(y_1))\n",
    "score_2 = ev.rmsle_loop(np.expm1(y_2))\n",
    "print(score, score_2)"
   ]
  },
  {
   "cell_type": "code",
   "execution_count": 7,
   "metadata": {},
   "outputs": [],
   "source": [
    "Bd_train = pd.get_dummies(B_train, columns=['category_code'], sparse=True).astype(np.int8)\n",
    "# Bd_test = pd.get_dummies(B_test, columns=['brand_code'])\n"
   ]
  },
  {
   "cell_type": "code",
   "execution_count": 9,
   "metadata": {},
   "outputs": [
    {
     "data": {
      "text/html": [
       "<div>\n",
       "<style>\n",
       "    .dataframe thead tr:only-child th {\n",
       "        text-align: right;\n",
       "    }\n",
       "\n",
       "    .dataframe thead th {\n",
       "        text-align: left;\n",
       "    }\n",
       "\n",
       "    .dataframe tbody tr th {\n",
       "        vertical-align: top;\n",
       "    }\n",
       "</style>\n",
       "<table border=\"1\" class=\"dataframe\">\n",
       "  <thead>\n",
       "    <tr style=\"text-align: right;\">\n",
       "      <th></th>\n",
       "      <th>shipping</th>\n",
       "      <th>item_condition_id</th>\n",
       "      <th>brand_code</th>\n",
       "      <th>category_code_-1</th>\n",
       "      <th>category_code_0</th>\n",
       "      <th>category_code_1</th>\n",
       "      <th>category_code_2</th>\n",
       "      <th>category_code_3</th>\n",
       "      <th>category_code_4</th>\n",
       "      <th>category_code_5</th>\n",
       "      <th>...</th>\n",
       "      <th>category_code_1277</th>\n",
       "      <th>category_code_1278</th>\n",
       "      <th>category_code_1279</th>\n",
       "      <th>category_code_1280</th>\n",
       "      <th>category_code_1281</th>\n",
       "      <th>category_code_1282</th>\n",
       "      <th>category_code_1283</th>\n",
       "      <th>category_code_1284</th>\n",
       "      <th>category_code_1285</th>\n",
       "      <th>category_code_1286</th>\n",
       "    </tr>\n",
       "  </thead>\n",
       "  <tbody>\n",
       "    <tr>\n",
       "      <th>223243</th>\n",
       "      <td>1</td>\n",
       "      <td>1</td>\n",
       "      <td>-128</td>\n",
       "      <td>0</td>\n",
       "      <td>0</td>\n",
       "      <td>0</td>\n",
       "      <td>0</td>\n",
       "      <td>0</td>\n",
       "      <td>0</td>\n",
       "      <td>0</td>\n",
       "      <td>...</td>\n",
       "      <td>0</td>\n",
       "      <td>0</td>\n",
       "      <td>0</td>\n",
       "      <td>0</td>\n",
       "      <td>0</td>\n",
       "      <td>0</td>\n",
       "      <td>0</td>\n",
       "      <td>0</td>\n",
       "      <td>0</td>\n",
       "      <td>0</td>\n",
       "    </tr>\n",
       "    <tr>\n",
       "      <th>363758</th>\n",
       "      <td>1</td>\n",
       "      <td>1</td>\n",
       "      <td>-1</td>\n",
       "      <td>0</td>\n",
       "      <td>0</td>\n",
       "      <td>0</td>\n",
       "      <td>0</td>\n",
       "      <td>0</td>\n",
       "      <td>0</td>\n",
       "      <td>0</td>\n",
       "      <td>...</td>\n",
       "      <td>0</td>\n",
       "      <td>0</td>\n",
       "      <td>0</td>\n",
       "      <td>0</td>\n",
       "      <td>0</td>\n",
       "      <td>0</td>\n",
       "      <td>0</td>\n",
       "      <td>0</td>\n",
       "      <td>0</td>\n",
       "      <td>0</td>\n",
       "    </tr>\n",
       "    <tr>\n",
       "      <th>1358119</th>\n",
       "      <td>0</td>\n",
       "      <td>1</td>\n",
       "      <td>-1</td>\n",
       "      <td>0</td>\n",
       "      <td>0</td>\n",
       "      <td>0</td>\n",
       "      <td>0</td>\n",
       "      <td>0</td>\n",
       "      <td>0</td>\n",
       "      <td>0</td>\n",
       "      <td>...</td>\n",
       "      <td>0</td>\n",
       "      <td>0</td>\n",
       "      <td>0</td>\n",
       "      <td>0</td>\n",
       "      <td>0</td>\n",
       "      <td>0</td>\n",
       "      <td>0</td>\n",
       "      <td>0</td>\n",
       "      <td>0</td>\n",
       "      <td>0</td>\n",
       "    </tr>\n",
       "    <tr>\n",
       "      <th>198564</th>\n",
       "      <td>0</td>\n",
       "      <td>3</td>\n",
       "      <td>-15</td>\n",
       "      <td>0</td>\n",
       "      <td>0</td>\n",
       "      <td>0</td>\n",
       "      <td>0</td>\n",
       "      <td>0</td>\n",
       "      <td>0</td>\n",
       "      <td>0</td>\n",
       "      <td>...</td>\n",
       "      <td>0</td>\n",
       "      <td>0</td>\n",
       "      <td>0</td>\n",
       "      <td>0</td>\n",
       "      <td>0</td>\n",
       "      <td>0</td>\n",
       "      <td>0</td>\n",
       "      <td>0</td>\n",
       "      <td>0</td>\n",
       "      <td>0</td>\n",
       "    </tr>\n",
       "    <tr>\n",
       "      <th>71297</th>\n",
       "      <td>0</td>\n",
       "      <td>1</td>\n",
       "      <td>44</td>\n",
       "      <td>0</td>\n",
       "      <td>0</td>\n",
       "      <td>0</td>\n",
       "      <td>0</td>\n",
       "      <td>0</td>\n",
       "      <td>0</td>\n",
       "      <td>0</td>\n",
       "      <td>...</td>\n",
       "      <td>0</td>\n",
       "      <td>0</td>\n",
       "      <td>0</td>\n",
       "      <td>0</td>\n",
       "      <td>0</td>\n",
       "      <td>0</td>\n",
       "      <td>0</td>\n",
       "      <td>0</td>\n",
       "      <td>0</td>\n",
       "      <td>0</td>\n",
       "    </tr>\n",
       "  </tbody>\n",
       "</table>\n",
       "<p>5 rows × 1251 columns</p>\n",
       "</div>"
      ],
      "text/plain": [
       "         shipping  item_condition_id  brand_code  category_code_-1  \\\n",
       "223243          1                  1        -128                 0   \n",
       "363758          1                  1          -1                 0   \n",
       "1358119         0                  1          -1                 0   \n",
       "198564          0                  3         -15                 0   \n",
       "71297           0                  1          44                 0   \n",
       "\n",
       "         category_code_0  category_code_1  category_code_2  category_code_3  \\\n",
       "223243                 0                0                0                0   \n",
       "363758                 0                0                0                0   \n",
       "1358119                0                0                0                0   \n",
       "198564                 0                0                0                0   \n",
       "71297                  0                0                0                0   \n",
       "\n",
       "         category_code_4  category_code_5         ...          \\\n",
       "223243                 0                0         ...           \n",
       "363758                 0                0         ...           \n",
       "1358119                0                0         ...           \n",
       "198564                 0                0         ...           \n",
       "71297                  0                0         ...           \n",
       "\n",
       "         category_code_1277  category_code_1278  category_code_1279  \\\n",
       "223243                    0                   0                   0   \n",
       "363758                    0                   0                   0   \n",
       "1358119                   0                   0                   0   \n",
       "198564                    0                   0                   0   \n",
       "71297                     0                   0                   0   \n",
       "\n",
       "         category_code_1280  category_code_1281  category_code_1282  \\\n",
       "223243                    0                   0                   0   \n",
       "363758                    0                   0                   0   \n",
       "1358119                   0                   0                   0   \n",
       "198564                    0                   0                   0   \n",
       "71297                     0                   0                   0   \n",
       "\n",
       "         category_code_1283  category_code_1284  category_code_1285  \\\n",
       "223243                    0                   0                   0   \n",
       "363758                    0                   0                   0   \n",
       "1358119                   0                   0                   0   \n",
       "198564                    0                   0                   0   \n",
       "71297                     0                   0                   0   \n",
       "\n",
       "         category_code_1286  \n",
       "223243                    0  \n",
       "363758                    0  \n",
       "1358119                   0  \n",
       "198564                    0  \n",
       "71297                     0  \n",
       "\n",
       "[5 rows x 1251 columns]"
      ]
     },
     "execution_count": 9,
     "metadata": {},
     "output_type": "execute_result"
    }
   ],
   "source": [
    "Bd_train.head()"
   ]
  },
  {
   "cell_type": "code",
   "execution_count": null,
   "metadata": {},
   "outputs": [],
   "source": [
    "regr_1 = DecisionTreeRegressor(max_depth=2)\n",
    "regr_2 = DecisionTreeRegressor(max_depth=20)\n",
    "regr_1.fit(Bd_train, np.log1p(y_train))\n",
    "regr_2.fit(Bd_train, np.log1p(y_train))\n",
    "print(regr_1.feature_importances_)\n",
    "print(regr_2.feature_importances_)"
   ]
  },
  {
   "cell_type": "code",
   "execution_count": null,
   "metadata": {
    "collapsed": true
   },
   "outputs": [],
   "source": []
  }
 ],
 "metadata": {
  "kernelspec": {
   "display_name": "Python 3",
   "language": "python",
   "name": "python3"
  },
  "language_info": {
   "codemirror_mode": {
    "name": "ipython",
    "version": 3
   },
   "file_extension": ".py",
   "mimetype": "text/x-python",
   "name": "python",
   "nbconvert_exporter": "python",
   "pygments_lexer": "ipython3",
   "version": "3.6.3"
  }
 },
 "nbformat": 4,
 "nbformat_minor": 2
}
