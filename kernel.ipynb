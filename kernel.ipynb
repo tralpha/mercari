{
 "cells": [
  {
   "cell_type": "code",
   "execution_count": 122,
   "metadata": {
    "collapsed": true
   },
   "outputs": [],
   "source": [
    "import numpy as np  # linear algebra\n",
    "import pandas as pd  # data processing, CSV file I/O (e.g. pd.read_csv)\n",
    "import math\n",
    "from sklearn.model_selection import train_test_split\n",
    "from kernel import Evaluator\n",
    "import seaborn as sns\n",
    "import matplotlib.pyplot as plt\n",
    "sns.set(style=\"whitegrid\", color_codes=True)\n",
    "%matplotlib inline"
   ]
  },
  {
   "cell_type": "code",
   "execution_count": 2,
   "metadata": {},
   "outputs": [
    {
     "name": "stdout",
     "output_type": "stream",
     "text": [
      "Loading Dataset...\n",
      "Dataset loaded!...\n"
     ]
    }
   ],
   "source": [
    "print('Loading Dataset...')\n",
    "train = pd.read_csv(\"train.tsv\", sep='\\t')\n",
    "test = pd.read_csv(\"test.tsv\", sep='\\t')\n",
    "print('Dataset loaded!...')"
   ]
  },
  {
   "cell_type": "code",
   "execution_count": 3,
   "metadata": {
    "collapsed": true
   },
   "outputs": [],
   "source": [
    "X = train.loc[:, train.columns!='price']\n",
    "y = train.loc[:, ['price']]\n",
    "\n",
    "X_train, X_test, y_train, y_test = train_test_split(\n",
    "    X, y, test_size=0.33, random_state=42)"
   ]
  },
  {
   "cell_type": "markdown",
   "metadata": {},
   "source": [
    "Now we're going to create a simple classifier which has only item_condition_id and shipping. Train it, then test it from there. And then look at the score."
   ]
  },
  {
   "cell_type": "code",
   "execution_count": 103,
   "metadata": {
    "collapsed": true
   },
   "outputs": [],
   "source": [
    "S_train = X_train.loc[:, ['item_condition_id', 'shipping']]\n",
    "S_test = X_test.loc[:, ['item_condition_id', 'shipping']]"
   ]
  },
  {
   "cell_type": "code",
   "execution_count": 104,
   "metadata": {
    "collapsed": true
   },
   "outputs": [],
   "source": [
    "# Fit Regressor to the Data\n",
    "from sklearn.tree import DecisionTreeRegressor\n",
    "regr_1 = DecisionTreeRegressor(max_depth=2)\n",
    "regr_2 = DecisionTreeRegressor(max_depth=5)"
   ]
  },
  {
   "cell_type": "code",
   "execution_count": 105,
   "metadata": {},
   "outputs": [
    {
     "data": {
      "text/plain": [
       "DecisionTreeRegressor(criterion='mse', max_depth=5, max_features=None,\n",
       "           max_leaf_nodes=None, min_impurity_decrease=0.0,\n",
       "           min_impurity_split=None, min_samples_leaf=1,\n",
       "           min_samples_split=2, min_weight_fraction_leaf=0.0,\n",
       "           presort=False, random_state=None, splitter='best')"
      ]
     },
     "execution_count": 105,
     "metadata": {},
     "output_type": "execute_result"
    }
   ],
   "source": [
    "regr_1.fit(S_train, np.log1p(y_train))\n",
    "regr_2.fit(S_train, np.log1p(y_train))"
   ]
  },
  {
   "cell_type": "code",
   "execution_count": 106,
   "metadata": {},
   "outputs": [
    {
     "name": "stdout",
     "output_type": "stream",
     "text": [
      "[ 0.09851607  0.90148393]\n",
      "[ 0.11056015  0.88943985]\n"
     ]
    }
   ],
   "source": [
    "# Find the feature importances of these regressors\n",
    "print(regr_1.feature_importances_)\n",
    "print(regr_2.feature_importances_)"
   ]
  },
  {
   "cell_type": "code",
   "execution_count": 107,
   "metadata": {},
   "outputs": [
    {
     "name": "stdout",
     "output_type": "stream",
     "text": [
      "0.7266657151210284 0.7263595037821374\n"
     ]
    }
   ],
   "source": [
    "train_predict_1 = regr_1.predict(S_train)\n",
    "train_predict_2 = regr_2.predict(S_train)\n",
    "ev_train = Evaluator(y_train.values)\n",
    "train_score_1 = ev_train.rmsle_loop(np.expm1(train_predict_1))\n",
    "train_score_2 = ev_train.rmsle_loop(np.expm1(train_predict_2))\n",
    "print(train_score_1, train_score_2)"
   ]
  },
  {
   "cell_type": "code",
   "execution_count": 108,
   "metadata": {},
   "outputs": [],
   "source": [
    "y_1 = regr_1.predict(S_test)\n",
    "y_2 = regr_2.predict(S_test)"
   ]
  },
  {
   "cell_type": "code",
   "execution_count": 109,
   "metadata": {},
   "outputs": [
    {
     "name": "stdout",
     "output_type": "stream",
     "text": [
      "0.7274138514434257 0.7271204069294144\n"
     ]
    }
   ],
   "source": [
    "ev = Evaluator(y_test.values)\n",
    "# print(dir(ev))\n",
    "score = ev.rmsle_loop(np.expm1(y_1))\n",
    "score_2 = ev.rmsle_loop(np.expm1(y_2))\n",
    "print(score, score_2)"
   ]
  },
  {
   "cell_type": "markdown",
   "metadata": {},
   "source": [
    "We got an evaluation score of 0.7997 for the regressor of `max_depth` 2 and that of 0.7993 for the regressor of `max_depth` of 5. Not bad. <br>Now let's try to explore the dataset"
   ]
  },
  {
   "cell_type": "code",
   "execution_count": 128,
   "metadata": {},
   "outputs": [
    {
     "data": {
      "text/plain": [
       "<matplotlib.axes._subplots.AxesSubplot at 0x7f0aca282748>"
      ]
     },
     "execution_count": 128,
     "metadata": {},
     "output_type": "execute_result"
    },
    {
     "data": {
      "image/png": "[encoded data removed]",
      "text/plain": [
       "<matplotlib.figure.Figure at 0x7f0ac7abe320>"
      ]
     },
     "metadata": {},
     "output_type": "display_data"
    }
   ],
   "source": [
    "iris = sns.load_dataset('iris')\n",
    "# Plot relationship between Shipping and Price, and Jitter it.\n",
    "# sns.stripplot(x=S_train['shipping'], y=y_train['price'], hue=S_train['item_condition_id'], jitter=True)\n",
    "sns.boxplot(x=S_train['shipping'], y=np.log1p(y_train['price']), hue=S_train['item_condition_id'])"
   ]
  },
  {
   "cell_type": "code",
   "execution_count": 130,
   "metadata": {},
   "outputs": [
    {
     "data": {
      "text/plain": [
       "<matplotlib.axes._subplots.AxesSubplot at 0x7f0aca0586a0>"
      ]
     },
     "execution_count": 130,
     "metadata": {},
     "output_type": "execute_result"
    },
    {
     "data": {
      "image/png": "[encoded data removed]",
      "text/plain": [
       "<matplotlib.figure.Figure at 0x7f0aca0c08d0>"
      ]
     },
     "metadata": {},
     "output_type": "display_data"
    }
   ],
   "source": [
    "# Plot relationship between Item Condition and Price, and Jitter it.\n",
    "# sns.stripplot(x=S_train['item_condition_id'], y=y_train['price'], hue=S_train['shipping'], jitter=True)\n",
    "sns.boxplot(x=new_s_train['n_condition'], y=np.log1p(y_train['price']))"
   ]
  },
  {
   "cell_type": "markdown",
   "metadata": {
    "collapsed": true
   },
   "source": [
    "Seems like the shipping feature is very informative, but the `item_condition_id` feature isn't as informative. Let's try to work on changing the `item_condition_id` feature. First, let's produce a histogram of this particular feature."
   ]
  },
  {
   "cell_type": "code",
   "execution_count": 44,
   "metadata": {},
   "outputs": [
    {
     "data": {
      "text/plain": [
       "<matplotlib.axes._subplots.AxesSubplot at 0x7f0aca9dd4a8>"
      ]
     },
     "execution_count": 44,
     "metadata": {},
     "output_type": "execute_result"
    },
    {
     "data": {
      "image/png": "[encoded data removed]",
      "text/plain": [
       "<matplotlib.figure.Figure at 0x7f0aca9260f0>"
      ]
     },
     "metadata": {},
     "output_type": "display_data"
    }
   ],
   "source": [
    "sns.distplot(S_train['item_condition_id'], kde=False)"
   ]
  },
  {
   "cell_type": "markdown",
   "metadata": {},
   "source": [
    "From the graph we can clearly see that the `item_condition_id` for 5 is way too little, and this might affect the Regressor. However, we don't even know if there are other `item_condition_id`s. Let's try to obtain the unique values of this variable from the whole dataset."
   ]
  },
  {
   "cell_type": "code",
   "execution_count": 53,
   "metadata": {},
   "outputs": [
    {
     "name": "stdout",
     "output_type": "stream",
     "text": [
      "1    0.432178\n",
      "3    0.291495\n",
      "2    0.253264\n",
      "4    0.021505\n",
      "5    0.001557\n",
      "Name: item_condition_id, dtype: float64\n",
      "[1 3 4 2 5]\n"
     ]
    }
   ],
   "source": [
    "ici_unique = X_train['item_condition_id'].unique()\n",
    "print(X_train['item_condition_id'].value_counts(normalize='True'))\n",
    "print(ici_unique)"
   ]
  },
  {
   "cell_type": "markdown",
   "metadata": {},
   "source": [
    "Great, we have all of the unique `item_condition_id`, and it's from 1 to 5. Now, I really want to see the percentage of these values. Let's find a way to obtain these percentages."
   ]
  },
  {
   "cell_type": "code",
   "execution_count": 68,
   "metadata": {},
   "outputs": [
    {
     "data": {
      "text/plain": [
       "<matplotlib.axes._subplots.AxesSubplot at 0x7f0aca3ea9e8>"
      ]
     },
     "execution_count": 68,
     "metadata": {},
     "output_type": "execute_result"
    },
    {
     "data": {
      "image/png": "[encoded data removed]",
      "text/plain": [
       "<matplotlib.figure.Figure at 0x7f0aca490898>"
      ]
     },
     "metadata": {},
     "output_type": "display_data"
    }
   ],
   "source": [
    "sns.barplot(x=S_train['item_condition_id'].value_counts(normalize='True').index, \n",
    "            y=S_train['item_condition_id'].value_counts(normalize='True'))"
   ]
  },
  {
   "cell_type": "markdown",
   "metadata": {},
   "source": [
    "Plot another graph, to clearly show that products with shipping and item condition of 1 dominate the dataset."
   ]
  },
  {
   "cell_type": "code",
   "execution_count": 69,
   "metadata": {},
   "outputs": [
    {
     "data": {
      "text/plain": [
       "<matplotlib.axes._subplots.AxesSubplot at 0x7f0aca323710>"
      ]
     },
     "execution_count": 69,
     "metadata": {},
     "output_type": "execute_result"
    },
    {
     "data": {
      "image/png": "[encoded data removed]",
      "text/plain": [
       "<matplotlib.figure.Figure at 0x7f0aca543860>"
      ]
     },
     "metadata": {},
     "output_type": "display_data"
    }
   ],
   "source": [
    "sns.barplot(x=\"item_condition_id\", y=\"shipping\", data=S_train)"
   ]
  },
  {
   "cell_type": "markdown",
   "metadata": {},
   "source": [
    "Pheww, finally did it. Great job. Now, you can clearly see that both 4 and 5 are less than 5 percent of the total count. So, we combine them together."
   ]
  },
  {
   "cell_type": "code",
   "execution_count": 117,
   "metadata": {},
   "outputs": [],
   "source": [
    "def f(row):\n",
    "    if row['item_condition_id'] in [3,4,5]:\n",
    "        val = 3\n",
    "    elif row['item_condition_id'] in [1,2]:\n",
    "        val = row['item_condition_id']\n",
    "    return val\n",
    "S_train['n_condition'] = S_train.apply(f,axis=1)\n",
    "S_test['n_condition'] = S_test.apply(f,axis=1)"
   ]
  },
  {
   "cell_type": "code",
   "execution_count": 118,
   "metadata": {},
   "outputs": [
    {
     "name": "stdout",
     "output_type": "stream",
     "text": [
      "[1 3 2]\n",
      "1    0.432178\n",
      "3    0.314557\n",
      "2    0.253264\n",
      "Name: n_condition, dtype: float64\n",
      "Index(['shipping', 'n_condition'], dtype='object')\n",
      "Index(['shipping', 'n_condition'], dtype='object')\n"
     ]
    }
   ],
   "source": [
    "print(S_train['n_condition'].unique())\n",
    "print(S_train['n_condition'].value_counts(normalize='True'))\n",
    "# Delete the item_conditions_id column\n",
    "new_s_train = S_train.drop('item_condition_id', axis=1)\n",
    "new_s_test = S_test.drop('item_condition_id', axis=1)\n",
    "print(new_s_train.columns)\n",
    "print(new_s_test.columns)"
   ]
  },
  {
   "cell_type": "code",
   "execution_count": 119,
   "metadata": {},
   "outputs": [
    {
     "data": {
      "text/plain": [
       "DecisionTreeRegressor(criterion='mse', max_depth=5, max_features=None,\n",
       "           max_leaf_nodes=None, min_impurity_decrease=0.0,\n",
       "           min_impurity_split=None, min_samples_leaf=1,\n",
       "           min_samples_split=2, min_weight_fraction_leaf=0.0,\n",
       "           presort=False, random_state=None, splitter='best')"
      ]
     },
     "execution_count": 119,
     "metadata": {},
     "output_type": "execute_result"
    }
   ],
   "source": [
    "regr_1 = DecisionTreeRegressor(max_depth=2)\n",
    "regr_2 = DecisionTreeRegressor(max_depth=5)\n",
    "regr_1.fit(new_s_train, np.log1p(y_train))\n",
    "regr_2.fit(new_s_train, np.log1p(y_train))"
   ]
  },
  {
   "cell_type": "code",
   "execution_count": 120,
   "metadata": {},
   "outputs": [
    {
     "name": "stdout",
     "output_type": "stream",
     "text": [
      "[ 0.90148393  0.09851607]\n",
      "[ 0.89405203  0.10594797]\n"
     ]
    }
   ],
   "source": [
    "print(regr_1.feature_importances_)\n",
    "print(regr_2.feature_importances_)"
   ]
  },
  {
   "cell_type": "code",
   "execution_count": 121,
   "metadata": {},
   "outputs": [
    {
     "name": "stdout",
     "output_type": "stream",
     "text": [
      "0.7266657151210273 0.7264777548685666\n"
     ]
    }
   ],
   "source": [
    "train_predict_1 = regr_1.predict(new_s_train)\n",
    "train_predict_2 = regr_2.predict(new_s_train)\n",
    "ev_train = Evaluator(y_train.values)\n",
    "train_score_1 = ev_train.rmsle_loop(np.expm1(train_predict_1))\n",
    "train_score_2 = ev_train.rmsle_loop(np.expm1(train_predict_2))\n",
    "print(train_score_1, train_score_2)"
   ]
  },
  {
   "cell_type": "code",
   "execution_count": 125,
   "metadata": {
    "collapsed": true
   },
   "outputs": [],
   "source": [
    "y_1 = regr_1.predict(new_s_test)\n",
    "y_2 = regr_2.predict(new_s_test)"
   ]
  },
  {
   "cell_type": "code",
   "execution_count": 126,
   "metadata": {},
   "outputs": [
    {
     "name": "stdout",
     "output_type": "stream",
     "text": [
      "0.7274138514434252 0.7272317976363915\n"
     ]
    }
   ],
   "source": [
    "ev = Evaluator(y_test.values)\n",
    "# print(dir(ev))\n",
    "score = ev.rmsle_loop(np.expm1(y_1))\n",
    "score_2 = ev.rmsle_loop(np.expm1(y_2))\n",
    "print(score, score_2)"
   ]
  },
  {
   "cell_type": "markdown",
   "metadata": {},
   "source": [
    "There was no change in score, it stayed the same even with the `item_condition_id` becoming 4. How about we make it to become 3?"
   ]
  },
  {
   "cell_type": "code",
   "execution_count": null,
   "metadata": {
    "collapsed": true
   },
   "outputs": [],
   "source": []
  }
 ],
 "metadata": {
  "kernelspec": {
   "display_name": "Python 3",
   "language": "python",
   "name": "python3"
  },
  "language_info": {
   "codemirror_mode": {
    "name": "ipython",
    "version": 3
   },
   "file_extension": ".py",
   "mimetype": "text/x-python",
   "name": "python",
   "nbconvert_exporter": "python",
   "pygments_lexer": "ipython3",
   "version": "3.6.3"
  }
 },
 "nbformat": 4,
 "nbformat_minor": 2
}
